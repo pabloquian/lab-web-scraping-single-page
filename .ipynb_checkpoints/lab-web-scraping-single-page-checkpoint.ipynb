{
 "cells": [
  {
   "cell_type": "code",
   "execution_count": 1,
   "id": "008dad55",
   "metadata": {},
   "outputs": [],
   "source": [
    "# !pip install requests\n",
    "from bs4 import BeautifulSoup\n",
    "import requests\n",
    "import pandas as pd"
   ]
  },
  {
   "cell_type": "code",
   "execution_count": 2,
   "id": "2c934ba7",
   "metadata": {},
   "outputs": [],
   "source": [
    "# find url and store it in a variable\n",
    "url = \"http://www.popvortex.com/music/charts/top-100-songs.php\""
   ]
  },
  {
   "cell_type": "code",
   "execution_count": 3,
   "id": "13d7ca69",
   "metadata": {},
   "outputs": [],
   "source": [
    "# download html with a get request\n",
    "response = requests.get(url)"
   ]
  },
  {
   "cell_type": "code",
   "execution_count": 4,
   "id": "3bab33a7",
   "metadata": {},
   "outputs": [
    {
     "data": {
      "text/plain": [
       "200"
      ]
     },
     "execution_count": 4,
     "metadata": {},
     "output_type": "execute_result"
    }
   ],
   "source": [
    "response.status_code # 200 status code means OK!"
   ]
  },
  {
   "cell_type": "code",
   "execution_count": 5,
   "id": "904eea4e",
   "metadata": {},
   "outputs": [],
   "source": [
    "# response.content"
   ]
  },
  {
   "cell_type": "code",
   "execution_count": 6,
   "id": "dcd2306e",
   "metadata": {},
   "outputs": [],
   "source": [
    "# parse html (create the 'soup')\n",
    "soup = BeautifulSoup(response.content, \"html.parser\")"
   ]
  },
  {
   "cell_type": "code",
   "execution_count": 7,
   "id": "43a09769",
   "metadata": {},
   "outputs": [],
   "source": [
    "# check that the html code looks like it should\n",
    "# soup"
   ]
  },
  {
   "cell_type": "code",
   "execution_count": 8,
   "id": "48fa086d",
   "metadata": {},
   "outputs": [],
   "source": [
    "# body > div.container > div:nth-child(4) > div.col-xs-12.col-md-8 > div.chart-wrapper"
   ]
  },
  {
   "cell_type": "code",
   "execution_count": 9,
   "id": "5375982f",
   "metadata": {},
   "outputs": [],
   "source": [
    "# retrieve/extract the desired info \n",
    "# soup.select(\"body > div.container > div:nth-child(4) > div.col-xs-12.col-md-8 > div.chart-wrapper\")"
   ]
  },
  {
   "cell_type": "code",
   "execution_count": 10,
   "id": "2cb4f3ef",
   "metadata": {},
   "outputs": [],
   "source": [
    "cite = soup.select(\"div.chart-content.col-xs-12.col-sm-8 > p > cite\")"
   ]
  },
  {
   "cell_type": "code",
   "execution_count": 11,
   "id": "4034627a",
   "metadata": {
    "scrolled": true
   },
   "outputs": [
    {
     "data": {
      "text/plain": [
       "100"
      ]
     },
     "execution_count": 11,
     "metadata": {},
     "output_type": "execute_result"
    }
   ],
   "source": [
    "len(cite)"
   ]
  },
  {
   "cell_type": "code",
   "execution_count": 12,
   "id": "521915c3",
   "metadata": {
    "scrolled": false
   },
   "outputs": [
    {
     "name": "stdout",
     "output_type": "stream",
     "text": [
      "[\"TEXAS HOLD 'EM\", 'Beautiful Messes', 'Lose Control', 'Beautiful Things', 'Flowers', 'Turn the Lights Back On', \"Don't Let the Old Man In\", 'Lovin On Me', \"TEXAS HOLD 'EM\", 'Selfish', 'Sorrys & Ferraris', 'I Remember Everything (feat. Kacey Musgraves)', 'Made For Me', 'Houdini', 'Fast Car', 'Training Season', 'Live Like You Were Dying', 'Fast Car', 'Save Me', 'Where the Wild Things Are', 'Cruel Summer', 'Lil Boo Thang', 'Yeah! (feat. Lil Jon & Ludacris)', '16 CARRIAGES', 'Until I Found You', \"Let's Go\", 'Need a Favor', \"Country's Cool Again\", \"In Case You Didn't Know\", 'You Are the Reason', 'Powerful Women', 'Three Little Birds', 'Spicy Margarita', 'yes, and?', 'White Horse', 'Water', 'Until I Found You (Em Beihold Version)', 'Murder On the Dancefloor (Radio Edit)', \"Should've Been a Cowboy\", 'Hard to Love', 'Good Day', 'What Was I Made For? (From The Motion Picture \"Barbie\")', 'Thinkin’ Bout Me', 'A Country Boy Can Survive', 'Devil You Know', 'Save Me (with Lainey Wilson)', 'One Love / People Get Ready', 'Spin You Around (1/24)', 'Lovin On Me', 'Wildflowers and Wild Horses (Single Version)', 'Courtesy of the Red, White and Blue (The Angry American)', \"It Ain't Over 'Til It's Over\", 'Anti-Hero', 'Last Night', 'You’re Losing Me (From The Vault)', 'What I Couldn’t Forget', 'Lover', 'There Was Jesus', 'Watermelon Moonshine', 'bury a friend', 'You Are the Reason (Duet Version)', 'To Be A Man (feat. Darius Rucker)', 'Dance The Night', 'Pretty Little Poison', 'Love Story (Taylor’s Version)', 'You Belong With Me (Taylor’s Version)', '23', 'CARNIVAL', 'Give In to Me', 'Standing Next to You (USHER Remix)', 'Stick Season', 'EASY', 'Praise (feat. Brandon Lake, Chris Brown & Chandler Moore)', 'A Symptom Of Being Human', 'Standing Next to You (Usher Remix)', 'The Door', 'Tennessee Whiskey', 'Karma', 'As Good As I Once Was', 'Lead Me Home', 'TRUCK BED', 'Fly Away', 'redrum', '...Ready For It?', 'Bulletproof', 'We Are the World', 'Unstoppable', 'Used To Be Young', 'Life With You', \"Can't Get Enough\", 'You Need To Calm Down', 'Everybody (feat. Lil Uzi Vert)', 'The Painter', \"We Takin' Over (feat. Akon, T.I., Rick Ross, Fat Joe, Baby & Lil' Wayne)\", 'Dance You Outta My Head', 'Standing Next to You', 'Strangers', 'Unwritten', 'HISS', 'Tell It To My Heart']\n"
     ]
    }
   ],
   "source": [
    "title = []  \n",
    "\n",
    "for i in cite:\n",
    "    title.append(i.get_text())  \n",
    "print(title)"
   ]
  },
  {
   "cell_type": "code",
   "execution_count": 13,
   "id": "1adeeaa7",
   "metadata": {},
   "outputs": [
    {
     "data": {
      "text/plain": [
       "100"
      ]
     },
     "execution_count": 13,
     "metadata": {},
     "output_type": "execute_result"
    }
   ],
   "source": [
    "len(title)"
   ]
  },
  {
   "cell_type": "code",
   "execution_count": 14,
   "id": "deabde35",
   "metadata": {},
   "outputs": [],
   "source": [
    "em = soup.select(\"div.chart-content.col-xs-12.col-sm-8 > p > em\")"
   ]
  },
  {
   "cell_type": "code",
   "execution_count": 15,
   "id": "163a550c",
   "metadata": {},
   "outputs": [
    {
     "data": {
      "text/plain": [
       "100"
      ]
     },
     "execution_count": 15,
     "metadata": {},
     "output_type": "execute_result"
    }
   ],
   "source": [
    "len(em)"
   ]
  },
  {
   "cell_type": "code",
   "execution_count": 16,
   "id": "057a57f8",
   "metadata": {
    "scrolled": true
   },
   "outputs": [
    {
     "name": "stdout",
     "output_type": "stream",
     "text": [
      "['Beyoncé', 'Hillary Scott & The Scott Family', 'Teddy Swims', 'Benson Boone', 'Miley Cyrus', 'Billy Joel', 'Toby Keith', 'Jack Harlow', 'Beyoncé', 'Justin Timberlake', 'Polo G', 'Zach Bryan', 'Muni Long', 'Dua Lipa', 'Luke Combs', 'Dua Lipa', 'Tim McGraw', 'Tracy Chapman', 'Jelly Roll', 'Luke Combs', 'Taylor Swift', 'Paul Russell', 'USHER', 'Beyoncé', 'Stephen Sanchez', 'Key Glock', 'Jelly Roll', 'Lainey Wilson', 'Brett Young', 'Calum Scott', 'Pitbull & Dolly Parton', 'Bob Marley & The Wailers', 'Jason Derulo & Michael Bublé', 'Ariana Grande & Mariah Carey', 'Chris Stapleton', 'Tyla', 'Stephen Sanchez & Em Beihold', 'Sophie Ellis-Bextor', 'Toby Keith', 'Lee Brice', 'Forrest Frank', 'Billie Eilish', 'Morgan Wallen', 'Hank Williams, Jr.', 'Tyler Braden', 'Jelly Roll', 'Bob Marley & The Wailers', 'Morgan Wallen', 'Jack Harlow', 'Lainey Wilson', 'Toby Keith', 'Lenny Kravitz', 'Taylor Swift', 'Morgan Wallen', 'Taylor Swift', 'Drake Milligan', 'Taylor Swift', 'Zach Williams & Dolly Parton', 'Lainey Wilson', 'Billie Eilish', 'Calum Scott & Leona Lewis', 'Dax', 'Dua Lipa', 'Warren Zeiders', 'Taylor Swift', 'Taylor Swift', 'Chayce Beckham', '¥$, Kanye West & Ty Dolla $ign', 'Garrett Hedlund & Leighton Meester', 'Jung Kook & USHER', 'Noah Kahan', 'LE SSERAFIM', 'Elevation Worship', 'Shinedown', 'Jung Kook & USHER', 'Teddy Swims', 'Chris Stapleton', 'Taylor Swift', 'Toby Keith', 'Jamey Johnson', 'HARDY', 'Lenny Kravitz', '21 Savage', 'Taylor Swift', 'Nate Smith', 'U.S.A. for Africa', 'Sia', 'Miley Cyrus', 'Kelsey Hart', 'Jennifer Lopez', 'Taylor Swift', 'Nicki Minaj', 'Cody Johnson', 'DJ Khaled', 'Cat Janice', 'Jung Kook', 'Kenya Grace', 'Natasha Bedingfield', 'Megan Thee Stallion', 'Cash Cash & Taylor Dayne']\n"
     ]
    }
   ],
   "source": [
    "artist = []  \n",
    "\n",
    "for i in em:\n",
    "    artist.append(i.get_text())  \n",
    "print(artist)"
   ]
  },
  {
   "cell_type": "code",
   "execution_count": 17,
   "id": "a4fc3b83",
   "metadata": {},
   "outputs": [
    {
     "data": {
      "text/plain": [
       "100"
      ]
     },
     "execution_count": 17,
     "metadata": {},
     "output_type": "execute_result"
    }
   ],
   "source": [
    "len(artist)"
   ]
  },
  {
   "cell_type": "code",
   "execution_count": 18,
   "id": "30b1e43f",
   "metadata": {},
   "outputs": [],
   "source": [
    "# each list becomes a column\n",
    "hot100 = pd.DataFrame({\"title\":title,\n",
    "                           \"artist\":artist\n",
    "                          })"
   ]
  },
  {
   "cell_type": "code",
   "execution_count": 19,
   "id": "9e726f98",
   "metadata": {
    "scrolled": false
   },
   "outputs": [
    {
     "data": {
      "text/html": [
       "<div>\n",
       "<style scoped>\n",
       "    .dataframe tbody tr th:only-of-type {\n",
       "        vertical-align: middle;\n",
       "    }\n",
       "\n",
       "    .dataframe tbody tr th {\n",
       "        vertical-align: top;\n",
       "    }\n",
       "\n",
       "    .dataframe thead th {\n",
       "        text-align: right;\n",
       "    }\n",
       "</style>\n",
       "<table border=\"1\" class=\"dataframe\">\n",
       "  <thead>\n",
       "    <tr style=\"text-align: right;\">\n",
       "      <th></th>\n",
       "      <th>title</th>\n",
       "      <th>artist</th>\n",
       "    </tr>\n",
       "  </thead>\n",
       "  <tbody>\n",
       "    <tr>\n",
       "      <th>0</th>\n",
       "      <td>TEXAS HOLD 'EM</td>\n",
       "      <td>Beyoncé</td>\n",
       "    </tr>\n",
       "    <tr>\n",
       "      <th>1</th>\n",
       "      <td>Beautiful Messes</td>\n",
       "      <td>Hillary Scott &amp; The Scott Family</td>\n",
       "    </tr>\n",
       "    <tr>\n",
       "      <th>2</th>\n",
       "      <td>Lose Control</td>\n",
       "      <td>Teddy Swims</td>\n",
       "    </tr>\n",
       "    <tr>\n",
       "      <th>3</th>\n",
       "      <td>Beautiful Things</td>\n",
       "      <td>Benson Boone</td>\n",
       "    </tr>\n",
       "    <tr>\n",
       "      <th>4</th>\n",
       "      <td>Flowers</td>\n",
       "      <td>Miley Cyrus</td>\n",
       "    </tr>\n",
       "    <tr>\n",
       "      <th>...</th>\n",
       "      <td>...</td>\n",
       "      <td>...</td>\n",
       "    </tr>\n",
       "    <tr>\n",
       "      <th>95</th>\n",
       "      <td>Standing Next to You</td>\n",
       "      <td>Jung Kook</td>\n",
       "    </tr>\n",
       "    <tr>\n",
       "      <th>96</th>\n",
       "      <td>Strangers</td>\n",
       "      <td>Kenya Grace</td>\n",
       "    </tr>\n",
       "    <tr>\n",
       "      <th>97</th>\n",
       "      <td>Unwritten</td>\n",
       "      <td>Natasha Bedingfield</td>\n",
       "    </tr>\n",
       "    <tr>\n",
       "      <th>98</th>\n",
       "      <td>HISS</td>\n",
       "      <td>Megan Thee Stallion</td>\n",
       "    </tr>\n",
       "    <tr>\n",
       "      <th>99</th>\n",
       "      <td>Tell It To My Heart</td>\n",
       "      <td>Cash Cash &amp; Taylor Dayne</td>\n",
       "    </tr>\n",
       "  </tbody>\n",
       "</table>\n",
       "<p>100 rows × 2 columns</p>\n",
       "</div>"
      ],
      "text/plain": [
       "                   title                            artist\n",
       "0         TEXAS HOLD 'EM                           Beyoncé\n",
       "1       Beautiful Messes  Hillary Scott & The Scott Family\n",
       "2           Lose Control                       Teddy Swims\n",
       "3       Beautiful Things                      Benson Boone\n",
       "4                Flowers                       Miley Cyrus\n",
       "..                   ...                               ...\n",
       "95  Standing Next to You                         Jung Kook\n",
       "96             Strangers                       Kenya Grace\n",
       "97             Unwritten               Natasha Bedingfield\n",
       "98                  HISS               Megan Thee Stallion\n",
       "99   Tell It To My Heart          Cash Cash & Taylor Dayne\n",
       "\n",
       "[100 rows x 2 columns]"
      ]
     },
     "execution_count": 19,
     "metadata": {},
     "output_type": "execute_result"
    }
   ],
   "source": [
    "hot100"
   ]
  },
  {
   "cell_type": "markdown",
   "id": "7ca3bce1",
   "metadata": {},
   "source": [
    "## Creating a recommendator for Gnoosic"
   ]
  },
  {
   "cell_type": "code",
   "execution_count": 20,
   "id": "c7633efc",
   "metadata": {},
   "outputs": [],
   "source": [
    "# define a fuction to make all values lowercase\n",
    "def lowervalue(x):\n",
    "    return x.lower()"
   ]
  },
  {
   "cell_type": "code",
   "execution_count": 21,
   "id": "528701de",
   "metadata": {},
   "outputs": [],
   "source": [
    "hot100['titlelower'] = hot100['title'].apply(lowervalue)\n",
    "hot100['artistlower'] = hot100['artist'].apply(lowervalue)"
   ]
  },
  {
   "cell_type": "code",
   "execution_count": 22,
   "id": "ea228412",
   "metadata": {},
   "outputs": [],
   "source": [
    "hot100lower = hot100[['titlelower', 'artistlower']]"
   ]
  },
  {
   "cell_type": "code",
   "execution_count": 23,
   "id": "1a1ee3d3",
   "metadata": {
    "scrolled": true
   },
   "outputs": [
    {
     "data": {
      "text/html": [
       "<div>\n",
       "<style scoped>\n",
       "    .dataframe tbody tr th:only-of-type {\n",
       "        vertical-align: middle;\n",
       "    }\n",
       "\n",
       "    .dataframe tbody tr th {\n",
       "        vertical-align: top;\n",
       "    }\n",
       "\n",
       "    .dataframe thead th {\n",
       "        text-align: right;\n",
       "    }\n",
       "</style>\n",
       "<table border=\"1\" class=\"dataframe\">\n",
       "  <thead>\n",
       "    <tr style=\"text-align: right;\">\n",
       "      <th></th>\n",
       "      <th>titlelower</th>\n",
       "      <th>artistlower</th>\n",
       "    </tr>\n",
       "  </thead>\n",
       "  <tbody>\n",
       "    <tr>\n",
       "      <th>0</th>\n",
       "      <td>texas hold 'em</td>\n",
       "      <td>beyoncé</td>\n",
       "    </tr>\n",
       "    <tr>\n",
       "      <th>1</th>\n",
       "      <td>beautiful messes</td>\n",
       "      <td>hillary scott &amp; the scott family</td>\n",
       "    </tr>\n",
       "    <tr>\n",
       "      <th>2</th>\n",
       "      <td>lose control</td>\n",
       "      <td>teddy swims</td>\n",
       "    </tr>\n",
       "    <tr>\n",
       "      <th>3</th>\n",
       "      <td>beautiful things</td>\n",
       "      <td>benson boone</td>\n",
       "    </tr>\n",
       "    <tr>\n",
       "      <th>4</th>\n",
       "      <td>flowers</td>\n",
       "      <td>miley cyrus</td>\n",
       "    </tr>\n",
       "    <tr>\n",
       "      <th>...</th>\n",
       "      <td>...</td>\n",
       "      <td>...</td>\n",
       "    </tr>\n",
       "    <tr>\n",
       "      <th>95</th>\n",
       "      <td>standing next to you</td>\n",
       "      <td>jung kook</td>\n",
       "    </tr>\n",
       "    <tr>\n",
       "      <th>96</th>\n",
       "      <td>strangers</td>\n",
       "      <td>kenya grace</td>\n",
       "    </tr>\n",
       "    <tr>\n",
       "      <th>97</th>\n",
       "      <td>unwritten</td>\n",
       "      <td>natasha bedingfield</td>\n",
       "    </tr>\n",
       "    <tr>\n",
       "      <th>98</th>\n",
       "      <td>hiss</td>\n",
       "      <td>megan thee stallion</td>\n",
       "    </tr>\n",
       "    <tr>\n",
       "      <th>99</th>\n",
       "      <td>tell it to my heart</td>\n",
       "      <td>cash cash &amp; taylor dayne</td>\n",
       "    </tr>\n",
       "  </tbody>\n",
       "</table>\n",
       "<p>100 rows × 2 columns</p>\n",
       "</div>"
      ],
      "text/plain": [
       "              titlelower                       artistlower\n",
       "0         texas hold 'em                           beyoncé\n",
       "1       beautiful messes  hillary scott & the scott family\n",
       "2           lose control                       teddy swims\n",
       "3       beautiful things                      benson boone\n",
       "4                flowers                       miley cyrus\n",
       "..                   ...                               ...\n",
       "95  standing next to you                         jung kook\n",
       "96             strangers                       kenya grace\n",
       "97             unwritten               natasha bedingfield\n",
       "98                  hiss               megan thee stallion\n",
       "99   tell it to my heart          cash cash & taylor dayne\n",
       "\n",
       "[100 rows x 2 columns]"
      ]
     },
     "execution_count": 23,
     "metadata": {},
     "output_type": "execute_result"
    }
   ],
   "source": [
    "hot100lower"
   ]
  },
  {
   "cell_type": "markdown",
   "id": "724b6913",
   "metadata": {},
   "source": [
    "#### Recomendator:"
   ]
  },
  {
   "cell_type": "code",
   "execution_count": 24,
   "id": "ee4755e6",
   "metadata": {},
   "outputs": [
    {
     "name": "stdout",
     "output_type": "stream",
     "text": [
      "Enter a song's name: lalalala\n",
      "I have no recommendation at this time\n"
     ]
    }
   ],
   "source": [
    "from random import randint\n",
    "user_input = input(\"Enter a song's name: \")\n",
    "user_input_lower_stripped = user_input.lower().strip()\n",
    "\n",
    "if user_input_lower_stripped in list(hot100lower['titlelower']):\n",
    "    print(hot100['title'][randint(0,99)])\n",
    "else:\n",
    "    print(\"I have no recommendation at this time\")"
   ]
  }
 ],
 "metadata": {
  "kernelspec": {
   "display_name": "Python 3 (ipykernel)",
   "language": "python",
   "name": "python3"
  },
  "language_info": {
   "codemirror_mode": {
    "name": "ipython",
    "version": 3
   },
   "file_extension": ".py",
   "mimetype": "text/x-python",
   "name": "python",
   "nbconvert_exporter": "python",
   "pygments_lexer": "ipython3",
   "version": "3.11.5"
  }
 },
 "nbformat": 4,
 "nbformat_minor": 5
}
