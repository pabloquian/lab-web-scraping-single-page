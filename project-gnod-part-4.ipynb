{
 "cells": [
  {
   "cell_type": "markdown",
   "id": "a78b630f",
   "metadata": {},
   "source": [
    "# Gnod project: making a song recommender (4)"
   ]
  },
  {
   "cell_type": "markdown",
   "id": "b1628928",
   "metadata": {},
   "source": [
    "In this notebook I do the following:\n",
    " - Unpickle `kmeans_10_X_scaled` model and `X_scaled`\n",
    " - Predict the clusters and add them to `all_w_audio_ft_cat`\n",
    " - Make a new df called `song_artist_cluster` with only `'song_name'`, `'name'`, `'uri'` and `'cluster'` columns, and save it to a csv file"
   ]
  },
  {
   "cell_type": "code",
   "execution_count": 1,
   "id": "9ee098c4",
   "metadata": {},
   "outputs": [],
   "source": [
    "# import libraries\n",
    "import pickle\n",
    "import pandas as pd\n",
    "import numpy as np"
   ]
  },
  {
   "cell_type": "code",
   "execution_count": 2,
   "id": "89594438",
   "metadata": {},
   "outputs": [
    {
     "name": "stderr",
     "output_type": "stream",
     "text": [
      "C:\\Users\\pablo\\anaconda3\\Lib\\site-packages\\sklearn\\cluster\\_kmeans.py:1412: FutureWarning: The default value of `n_init` will change from 10 to 'auto' in 1.4. Set the value of `n_init` explicitly to suppress the warning\n",
      "  super()._check_params_vs_input(X, default_n_init=10)\n",
      "C:\\Users\\pablo\\anaconda3\\Lib\\site-packages\\joblib\\externals\\loky\\backend\\context.py:110: UserWarning: Could not find the number of physical cores for the following reason:\n",
      "found 0 physical cores < 1\n",
      "Returning the number of logical cores instead. You can silence this warning by setting LOKY_MAX_CPU_COUNT to the number of cores you want to use.\n",
      "  warnings.warn(\n",
      "  File \"C:\\Users\\pablo\\anaconda3\\Lib\\site-packages\\joblib\\externals\\loky\\backend\\context.py\", line 217, in _count_physical_cores\n",
      "    raise ValueError(\n"
     ]
    },
    {
     "data": {
      "text/html": [
       "<style>#sk-container-id-1 {color: black;}#sk-container-id-1 pre{padding: 0;}#sk-container-id-1 div.sk-toggleable {background-color: white;}#sk-container-id-1 label.sk-toggleable__label {cursor: pointer;display: block;width: 100%;margin-bottom: 0;padding: 0.3em;box-sizing: border-box;text-align: center;}#sk-container-id-1 label.sk-toggleable__label-arrow:before {content: \"▸\";float: left;margin-right: 0.25em;color: #696969;}#sk-container-id-1 label.sk-toggleable__label-arrow:hover:before {color: black;}#sk-container-id-1 div.sk-estimator:hover label.sk-toggleable__label-arrow:before {color: black;}#sk-container-id-1 div.sk-toggleable__content {max-height: 0;max-width: 0;overflow: hidden;text-align: left;background-color: #f0f8ff;}#sk-container-id-1 div.sk-toggleable__content pre {margin: 0.2em;color: black;border-radius: 0.25em;background-color: #f0f8ff;}#sk-container-id-1 input.sk-toggleable__control:checked~div.sk-toggleable__content {max-height: 200px;max-width: 100%;overflow: auto;}#sk-container-id-1 input.sk-toggleable__control:checked~label.sk-toggleable__label-arrow:before {content: \"▾\";}#sk-container-id-1 div.sk-estimator input.sk-toggleable__control:checked~label.sk-toggleable__label {background-color: #d4ebff;}#sk-container-id-1 div.sk-label input.sk-toggleable__control:checked~label.sk-toggleable__label {background-color: #d4ebff;}#sk-container-id-1 input.sk-hidden--visually {border: 0;clip: rect(1px 1px 1px 1px);clip: rect(1px, 1px, 1px, 1px);height: 1px;margin: -1px;overflow: hidden;padding: 0;position: absolute;width: 1px;}#sk-container-id-1 div.sk-estimator {font-family: monospace;background-color: #f0f8ff;border: 1px dotted black;border-radius: 0.25em;box-sizing: border-box;margin-bottom: 0.5em;}#sk-container-id-1 div.sk-estimator:hover {background-color: #d4ebff;}#sk-container-id-1 div.sk-parallel-item::after {content: \"\";width: 100%;border-bottom: 1px solid gray;flex-grow: 1;}#sk-container-id-1 div.sk-label:hover label.sk-toggleable__label {background-color: #d4ebff;}#sk-container-id-1 div.sk-serial::before {content: \"\";position: absolute;border-left: 1px solid gray;box-sizing: border-box;top: 0;bottom: 0;left: 50%;z-index: 0;}#sk-container-id-1 div.sk-serial {display: flex;flex-direction: column;align-items: center;background-color: white;padding-right: 0.2em;padding-left: 0.2em;position: relative;}#sk-container-id-1 div.sk-item {position: relative;z-index: 1;}#sk-container-id-1 div.sk-parallel {display: flex;align-items: stretch;justify-content: center;background-color: white;position: relative;}#sk-container-id-1 div.sk-item::before, #sk-container-id-1 div.sk-parallel-item::before {content: \"\";position: absolute;border-left: 1px solid gray;box-sizing: border-box;top: 0;bottom: 0;left: 50%;z-index: -1;}#sk-container-id-1 div.sk-parallel-item {display: flex;flex-direction: column;z-index: 1;position: relative;background-color: white;}#sk-container-id-1 div.sk-parallel-item:first-child::after {align-self: flex-end;width: 50%;}#sk-container-id-1 div.sk-parallel-item:last-child::after {align-self: flex-start;width: 50%;}#sk-container-id-1 div.sk-parallel-item:only-child::after {width: 0;}#sk-container-id-1 div.sk-dashed-wrapped {border: 1px dashed gray;margin: 0 0.4em 0.5em 0.4em;box-sizing: border-box;padding-bottom: 0.4em;background-color: white;}#sk-container-id-1 div.sk-label label {font-family: monospace;font-weight: bold;display: inline-block;line-height: 1.2em;}#sk-container-id-1 div.sk-label-container {text-align: center;}#sk-container-id-1 div.sk-container {/* jupyter's `normalize.less` sets `[hidden] { display: none; }` but bootstrap.min.css set `[hidden] { display: none !important; }` so we also need the `!important` here to be able to override the default hidden behavior on the sphinx rendered scikit-learn.org. See: https://github.com/scikit-learn/scikit-learn/issues/21755 */display: inline-block !important;position: relative;}#sk-container-id-1 div.sk-text-repr-fallback {display: none;}</style><div id=\"sk-container-id-1\" class=\"sk-top-container\"><div class=\"sk-text-repr-fallback\"><pre>KMeans(n_clusters=10, random_state=1234)</pre><b>In a Jupyter environment, please rerun this cell to show the HTML representation or trust the notebook. <br />On GitHub, the HTML representation is unable to render, please try loading this page with nbviewer.org.</b></div><div class=\"sk-container\" hidden><div class=\"sk-item\"><div class=\"sk-estimator sk-toggleable\"><input class=\"sk-toggleable__control sk-hidden--visually\" id=\"sk-estimator-id-1\" type=\"checkbox\" checked><label for=\"sk-estimator-id-1\" class=\"sk-toggleable__label sk-toggleable__label-arrow\">KMeans</label><div class=\"sk-toggleable__content\"><pre>KMeans(n_clusters=10, random_state=1234)</pre></div></div></div></div></div>"
      ],
      "text/plain": [
       "KMeans(n_clusters=10, random_state=1234)"
      ]
     },
     "execution_count": 2,
     "metadata": {},
     "output_type": "execute_result"
    }
   ],
   "source": [
    "# unpickle the model and X_scaled\n",
    "kmeans = pickle.load(open('kmeans_10_X_scaled.p','rb'))\n",
    "X_scaled = pd.read_pickle('X_scaled.p')\n",
    "\n",
    "# fit the model\n",
    "kmeans.fit(X_scaled)"
   ]
  },
  {
   "cell_type": "code",
   "execution_count": 3,
   "id": "bbcb9d11",
   "metadata": {},
   "outputs": [
    {
     "data": {
      "text/plain": [
       "0    4530\n",
       "1    1571\n",
       "2    3533\n",
       "3    5609\n",
       "4    1219\n",
       "5    1039\n",
       "6    2315\n",
       "7      96\n",
       "8    1614\n",
       "9    5048\n",
       "Name: count, dtype: int64"
      ]
     },
     "execution_count": 3,
     "metadata": {},
     "output_type": "execute_result"
    }
   ],
   "source": [
    "# predicting / assigning the clusters:\n",
    "clusters = kmeans.predict(X_scaled)\n",
    "\n",
    "# check the size of the clusters\n",
    "pd.Series(clusters).value_counts().sort_index()"
   ]
  },
  {
   "cell_type": "code",
   "execution_count": 4,
   "id": "19a6e28a",
   "metadata": {},
   "outputs": [
    {
     "data": {
      "text/plain": [
       "array([0, 9, 9, ..., 6, 0, 1])"
      ]
     },
     "execution_count": 4,
     "metadata": {},
     "output_type": "execute_result"
    }
   ],
   "source": [
    "clusters"
   ]
  },
  {
   "cell_type": "code",
   "execution_count": 5,
   "id": "5c45d18c",
   "metadata": {
    "scrolled": true
   },
   "outputs": [
    {
     "data": {
      "text/plain": [
       "26574"
      ]
     },
     "execution_count": 5,
     "metadata": {},
     "output_type": "execute_result"
    }
   ],
   "source": [
    "len(clusters)"
   ]
  },
  {
   "cell_type": "code",
   "execution_count": 6,
   "id": "69bb2d42",
   "metadata": {},
   "outputs": [],
   "source": [
    "all_w_audio_ft_cat = pd.read_csv('all_w_audio_ft_cat.csv')"
   ]
  },
  {
   "cell_type": "code",
   "execution_count": 7,
   "id": "06cde01a",
   "metadata": {
    "scrolled": true
   },
   "outputs": [],
   "source": [
    "# add clusters array as a column to the categorical dataframe\n",
    "all_w_audio_ft_cat['cluster'] = clusters"
   ]
  },
  {
   "cell_type": "code",
   "execution_count": 8,
   "id": "2486d89b",
   "metadata": {},
   "outputs": [
    {
     "data": {
      "text/html": [
       "<div>\n",
       "<style scoped>\n",
       "    .dataframe tbody tr th:only-of-type {\n",
       "        vertical-align: middle;\n",
       "    }\n",
       "\n",
       "    .dataframe tbody tr th {\n",
       "        vertical-align: top;\n",
       "    }\n",
       "\n",
       "    .dataframe thead th {\n",
       "        text-align: right;\n",
       "    }\n",
       "</style>\n",
       "<table border=\"1\" class=\"dataframe\">\n",
       "  <thead>\n",
       "    <tr style=\"text-align: right;\">\n",
       "      <th></th>\n",
       "      <th>song_name</th>\n",
       "      <th>name</th>\n",
       "      <th>song_id</th>\n",
       "      <th>type</th>\n",
       "      <th>uri</th>\n",
       "      <th>track_href</th>\n",
       "      <th>analysis_url</th>\n",
       "      <th>cluster</th>\n",
       "    </tr>\n",
       "  </thead>\n",
       "  <tbody>\n",
       "    <tr>\n",
       "      <th>0</th>\n",
       "      <td>...Ready For It?</td>\n",
       "      <td>Taylor Swift</td>\n",
       "      <td>7zgqtptZvhf8GEmdsM2vp2</td>\n",
       "      <td>audio_features</td>\n",
       "      <td>spotify:track:7zgqtptZvhf8GEmdsM2vp2</td>\n",
       "      <td>https://api.spotify.com/v1/tracks/7zgqtptZvhf8...</td>\n",
       "      <td>https://api.spotify.com/v1/audio-analysis/7zgq...</td>\n",
       "      <td>0</td>\n",
       "    </tr>\n",
       "    <tr>\n",
       "      <th>1</th>\n",
       "      <td>Life Changes</td>\n",
       "      <td>Thomas Rhett</td>\n",
       "      <td>4Vxu50qVrQcycjRyJQaZLC</td>\n",
       "      <td>audio_features</td>\n",
       "      <td>spotify:track:4Vxu50qVrQcycjRyJQaZLC</td>\n",
       "      <td>https://api.spotify.com/v1/tracks/4Vxu50qVrQcy...</td>\n",
       "      <td>https://api.spotify.com/v1/audio-analysis/4Vxu...</td>\n",
       "      <td>9</td>\n",
       "    </tr>\n",
       "    <tr>\n",
       "      <th>2</th>\n",
       "      <td>24K Magic</td>\n",
       "      <td>Bruno Mars</td>\n",
       "      <td>6b8Be6ljOzmkOmFslEb23P</td>\n",
       "      <td>audio_features</td>\n",
       "      <td>spotify:track:6b8Be6ljOzmkOmFslEb23P</td>\n",
       "      <td>https://api.spotify.com/v1/tracks/6b8Be6ljOzmk...</td>\n",
       "      <td>https://api.spotify.com/v1/audio-analysis/6b8B...</td>\n",
       "      <td>9</td>\n",
       "    </tr>\n",
       "    <tr>\n",
       "      <th>3</th>\n",
       "      <td>Galway Girl</td>\n",
       "      <td>Ed Sheeran</td>\n",
       "      <td>0afhq8XCExXpqazXczTSve</td>\n",
       "      <td>audio_features</td>\n",
       "      <td>spotify:track:0afhq8XCExXpqazXczTSve</td>\n",
       "      <td>https://api.spotify.com/v1/tracks/0afhq8XCExXp...</td>\n",
       "      <td>https://api.spotify.com/v1/audio-analysis/0afh...</td>\n",
       "      <td>9</td>\n",
       "    </tr>\n",
       "    <tr>\n",
       "      <th>4</th>\n",
       "      <td>Photograph</td>\n",
       "      <td>Ed Sheeran</td>\n",
       "      <td>1HNkqx9Ahdgi1Ixy2xkKkL</td>\n",
       "      <td>audio_features</td>\n",
       "      <td>spotify:track:1HNkqx9Ahdgi1Ixy2xkKkL</td>\n",
       "      <td>https://api.spotify.com/v1/tracks/1HNkqx9Ahdgi...</td>\n",
       "      <td>https://api.spotify.com/v1/audio-analysis/1HNk...</td>\n",
       "      <td>2</td>\n",
       "    </tr>\n",
       "    <tr>\n",
       "      <th>...</th>\n",
       "      <td>...</td>\n",
       "      <td>...</td>\n",
       "      <td>...</td>\n",
       "      <td>...</td>\n",
       "      <td>...</td>\n",
       "      <td>...</td>\n",
       "      <td>...</td>\n",
       "      <td>...</td>\n",
       "    </tr>\n",
       "    <tr>\n",
       "      <th>26569</th>\n",
       "      <td>Plush</td>\n",
       "      <td>Stone Temple Pilots</td>\n",
       "      <td>3jJZVeExYzVYiV6Y9Fl3DX</td>\n",
       "      <td>audio_features</td>\n",
       "      <td>spotify:track:3jJZVeExYzVYiV6Y9Fl3DX</td>\n",
       "      <td>https://api.spotify.com/v1/tracks/3jJZVeExYzVY...</td>\n",
       "      <td>https://api.spotify.com/v1/audio-analysis/3jJZ...</td>\n",
       "      <td>3</td>\n",
       "    </tr>\n",
       "    <tr>\n",
       "      <th>26570</th>\n",
       "      <td>Fame - 2007 Remaster</td>\n",
       "      <td>David Bowie</td>\n",
       "      <td>7qVOasZcHa4faF1TqvPEKF</td>\n",
       "      <td>audio_features</td>\n",
       "      <td>spotify:track:7qVOasZcHa4faF1TqvPEKF</td>\n",
       "      <td>https://api.spotify.com/v1/tracks/7qVOasZcHa4f...</td>\n",
       "      <td>https://api.spotify.com/v1/audio-analysis/7qVO...</td>\n",
       "      <td>0</td>\n",
       "    </tr>\n",
       "    <tr>\n",
       "      <th>26571</th>\n",
       "      <td>In Between Days - 2006 Remaster</td>\n",
       "      <td>The Cure</td>\n",
       "      <td>07CyrZF9eVd02zzIse7tZA</td>\n",
       "      <td>audio_features</td>\n",
       "      <td>spotify:track:07CyrZF9eVd02zzIse7tZA</td>\n",
       "      <td>https://api.spotify.com/v1/tracks/07CyrZF9eVd0...</td>\n",
       "      <td>https://api.spotify.com/v1/audio-analysis/07Cy...</td>\n",
       "      <td>6</td>\n",
       "    </tr>\n",
       "    <tr>\n",
       "      <th>26572</th>\n",
       "      <td>Flower</td>\n",
       "      <td>Moby</td>\n",
       "      <td>60rIdEPDrzyLiLC0icp3xz</td>\n",
       "      <td>audio_features</td>\n",
       "      <td>spotify:track:60rIdEPDrzyLiLC0icp3xz</td>\n",
       "      <td>https://api.spotify.com/v1/tracks/60rIdEPDrzyL...</td>\n",
       "      <td>https://api.spotify.com/v1/audio-analysis/60rI...</td>\n",
       "      <td>0</td>\n",
       "    </tr>\n",
       "    <tr>\n",
       "      <th>26573</th>\n",
       "      <td>Fury of the Storm - Live</td>\n",
       "      <td>DragonForce</td>\n",
       "      <td>4JPE3Q7vuFa6UFoduMgZm2</td>\n",
       "      <td>audio_features</td>\n",
       "      <td>spotify:track:4JPE3Q7vuFa6UFoduMgZm2</td>\n",
       "      <td>https://api.spotify.com/v1/tracks/4JPE3Q7vuFa6...</td>\n",
       "      <td>https://api.spotify.com/v1/audio-analysis/4JPE...</td>\n",
       "      <td>1</td>\n",
       "    </tr>\n",
       "  </tbody>\n",
       "</table>\n",
       "<p>26574 rows × 8 columns</p>\n",
       "</div>"
      ],
      "text/plain": [
       "                             song_name                 name  \\\n",
       "0                     ...Ready For It?         Taylor Swift   \n",
       "1                         Life Changes         Thomas Rhett   \n",
       "2                            24K Magic           Bruno Mars   \n",
       "3                          Galway Girl           Ed Sheeran   \n",
       "4                           Photograph           Ed Sheeran   \n",
       "...                                ...                  ...   \n",
       "26569                            Plush  Stone Temple Pilots   \n",
       "26570             Fame - 2007 Remaster          David Bowie   \n",
       "26571  In Between Days - 2006 Remaster             The Cure   \n",
       "26572                           Flower                 Moby   \n",
       "26573         Fury of the Storm - Live          DragonForce   \n",
       "\n",
       "                      song_id            type  \\\n",
       "0      7zgqtptZvhf8GEmdsM2vp2  audio_features   \n",
       "1      4Vxu50qVrQcycjRyJQaZLC  audio_features   \n",
       "2      6b8Be6ljOzmkOmFslEb23P  audio_features   \n",
       "3      0afhq8XCExXpqazXczTSve  audio_features   \n",
       "4      1HNkqx9Ahdgi1Ixy2xkKkL  audio_features   \n",
       "...                       ...             ...   \n",
       "26569  3jJZVeExYzVYiV6Y9Fl3DX  audio_features   \n",
       "26570  7qVOasZcHa4faF1TqvPEKF  audio_features   \n",
       "26571  07CyrZF9eVd02zzIse7tZA  audio_features   \n",
       "26572  60rIdEPDrzyLiLC0icp3xz  audio_features   \n",
       "26573  4JPE3Q7vuFa6UFoduMgZm2  audio_features   \n",
       "\n",
       "                                        uri  \\\n",
       "0      spotify:track:7zgqtptZvhf8GEmdsM2vp2   \n",
       "1      spotify:track:4Vxu50qVrQcycjRyJQaZLC   \n",
       "2      spotify:track:6b8Be6ljOzmkOmFslEb23P   \n",
       "3      spotify:track:0afhq8XCExXpqazXczTSve   \n",
       "4      spotify:track:1HNkqx9Ahdgi1Ixy2xkKkL   \n",
       "...                                     ...   \n",
       "26569  spotify:track:3jJZVeExYzVYiV6Y9Fl3DX   \n",
       "26570  spotify:track:7qVOasZcHa4faF1TqvPEKF   \n",
       "26571  spotify:track:07CyrZF9eVd02zzIse7tZA   \n",
       "26572  spotify:track:60rIdEPDrzyLiLC0icp3xz   \n",
       "26573  spotify:track:4JPE3Q7vuFa6UFoduMgZm2   \n",
       "\n",
       "                                              track_href  \\\n",
       "0      https://api.spotify.com/v1/tracks/7zgqtptZvhf8...   \n",
       "1      https://api.spotify.com/v1/tracks/4Vxu50qVrQcy...   \n",
       "2      https://api.spotify.com/v1/tracks/6b8Be6ljOzmk...   \n",
       "3      https://api.spotify.com/v1/tracks/0afhq8XCExXp...   \n",
       "4      https://api.spotify.com/v1/tracks/1HNkqx9Ahdgi...   \n",
       "...                                                  ...   \n",
       "26569  https://api.spotify.com/v1/tracks/3jJZVeExYzVY...   \n",
       "26570  https://api.spotify.com/v1/tracks/7qVOasZcHa4f...   \n",
       "26571  https://api.spotify.com/v1/tracks/07CyrZF9eVd0...   \n",
       "26572  https://api.spotify.com/v1/tracks/60rIdEPDrzyL...   \n",
       "26573  https://api.spotify.com/v1/tracks/4JPE3Q7vuFa6...   \n",
       "\n",
       "                                            analysis_url  cluster  \n",
       "0      https://api.spotify.com/v1/audio-analysis/7zgq...        0  \n",
       "1      https://api.spotify.com/v1/audio-analysis/4Vxu...        9  \n",
       "2      https://api.spotify.com/v1/audio-analysis/6b8B...        9  \n",
       "3      https://api.spotify.com/v1/audio-analysis/0afh...        9  \n",
       "4      https://api.spotify.com/v1/audio-analysis/1HNk...        2  \n",
       "...                                                  ...      ...  \n",
       "26569  https://api.spotify.com/v1/audio-analysis/3jJZ...        3  \n",
       "26570  https://api.spotify.com/v1/audio-analysis/7qVO...        0  \n",
       "26571  https://api.spotify.com/v1/audio-analysis/07Cy...        6  \n",
       "26572  https://api.spotify.com/v1/audio-analysis/60rI...        0  \n",
       "26573  https://api.spotify.com/v1/audio-analysis/4JPE...        1  \n",
       "\n",
       "[26574 rows x 8 columns]"
      ]
     },
     "execution_count": 8,
     "metadata": {},
     "output_type": "execute_result"
    }
   ],
   "source": [
    "all_w_audio_ft_cat"
   ]
  },
  {
   "cell_type": "code",
   "execution_count": 9,
   "id": "cc7fe3ca",
   "metadata": {},
   "outputs": [],
   "source": [
    "# make a new dataframe with just the 'song_name', 'name' and 'cluster' columns\n",
    "song_artist_cluster = all_w_audio_ft_cat[['song_name', 'name', 'uri','cluster']]"
   ]
  },
  {
   "cell_type": "code",
   "execution_count": 10,
   "id": "c824201f",
   "metadata": {},
   "outputs": [],
   "source": [
    "# rename column\n",
    "song_artist_cluster = song_artist_cluster.rename(columns={'name':'artist',\n",
    "                                                          'uri': 'url'})"
   ]
  },
  {
   "cell_type": "code",
   "execution_count": 11,
   "id": "d7bb1bbb",
   "metadata": {
    "scrolled": true
   },
   "outputs": [
    {
     "data": {
      "text/html": [
       "<div>\n",
       "<style scoped>\n",
       "    .dataframe tbody tr th:only-of-type {\n",
       "        vertical-align: middle;\n",
       "    }\n",
       "\n",
       "    .dataframe tbody tr th {\n",
       "        vertical-align: top;\n",
       "    }\n",
       "\n",
       "    .dataframe thead th {\n",
       "        text-align: right;\n",
       "    }\n",
       "</style>\n",
       "<table border=\"1\" class=\"dataframe\">\n",
       "  <thead>\n",
       "    <tr style=\"text-align: right;\">\n",
       "      <th></th>\n",
       "      <th>song_name</th>\n",
       "      <th>artist</th>\n",
       "      <th>url</th>\n",
       "      <th>cluster</th>\n",
       "    </tr>\n",
       "  </thead>\n",
       "  <tbody>\n",
       "    <tr>\n",
       "      <th>0</th>\n",
       "      <td>...Ready For It?</td>\n",
       "      <td>Taylor Swift</td>\n",
       "      <td>spotify:track:7zgqtptZvhf8GEmdsM2vp2</td>\n",
       "      <td>0</td>\n",
       "    </tr>\n",
       "    <tr>\n",
       "      <th>1</th>\n",
       "      <td>Life Changes</td>\n",
       "      <td>Thomas Rhett</td>\n",
       "      <td>spotify:track:4Vxu50qVrQcycjRyJQaZLC</td>\n",
       "      <td>9</td>\n",
       "    </tr>\n",
       "    <tr>\n",
       "      <th>2</th>\n",
       "      <td>24K Magic</td>\n",
       "      <td>Bruno Mars</td>\n",
       "      <td>spotify:track:6b8Be6ljOzmkOmFslEb23P</td>\n",
       "      <td>9</td>\n",
       "    </tr>\n",
       "    <tr>\n",
       "      <th>3</th>\n",
       "      <td>Galway Girl</td>\n",
       "      <td>Ed Sheeran</td>\n",
       "      <td>spotify:track:0afhq8XCExXpqazXczTSve</td>\n",
       "      <td>9</td>\n",
       "    </tr>\n",
       "    <tr>\n",
       "      <th>4</th>\n",
       "      <td>Photograph</td>\n",
       "      <td>Ed Sheeran</td>\n",
       "      <td>spotify:track:1HNkqx9Ahdgi1Ixy2xkKkL</td>\n",
       "      <td>2</td>\n",
       "    </tr>\n",
       "    <tr>\n",
       "      <th>...</th>\n",
       "      <td>...</td>\n",
       "      <td>...</td>\n",
       "      <td>...</td>\n",
       "      <td>...</td>\n",
       "    </tr>\n",
       "    <tr>\n",
       "      <th>26569</th>\n",
       "      <td>Plush</td>\n",
       "      <td>Stone Temple Pilots</td>\n",
       "      <td>spotify:track:3jJZVeExYzVYiV6Y9Fl3DX</td>\n",
       "      <td>3</td>\n",
       "    </tr>\n",
       "    <tr>\n",
       "      <th>26570</th>\n",
       "      <td>Fame - 2007 Remaster</td>\n",
       "      <td>David Bowie</td>\n",
       "      <td>spotify:track:7qVOasZcHa4faF1TqvPEKF</td>\n",
       "      <td>0</td>\n",
       "    </tr>\n",
       "    <tr>\n",
       "      <th>26571</th>\n",
       "      <td>In Between Days - 2006 Remaster</td>\n",
       "      <td>The Cure</td>\n",
       "      <td>spotify:track:07CyrZF9eVd02zzIse7tZA</td>\n",
       "      <td>6</td>\n",
       "    </tr>\n",
       "    <tr>\n",
       "      <th>26572</th>\n",
       "      <td>Flower</td>\n",
       "      <td>Moby</td>\n",
       "      <td>spotify:track:60rIdEPDrzyLiLC0icp3xz</td>\n",
       "      <td>0</td>\n",
       "    </tr>\n",
       "    <tr>\n",
       "      <th>26573</th>\n",
       "      <td>Fury of the Storm - Live</td>\n",
       "      <td>DragonForce</td>\n",
       "      <td>spotify:track:4JPE3Q7vuFa6UFoduMgZm2</td>\n",
       "      <td>1</td>\n",
       "    </tr>\n",
       "  </tbody>\n",
       "</table>\n",
       "<p>26574 rows × 4 columns</p>\n",
       "</div>"
      ],
      "text/plain": [
       "                             song_name               artist  \\\n",
       "0                     ...Ready For It?         Taylor Swift   \n",
       "1                         Life Changes         Thomas Rhett   \n",
       "2                            24K Magic           Bruno Mars   \n",
       "3                          Galway Girl           Ed Sheeran   \n",
       "4                           Photograph           Ed Sheeran   \n",
       "...                                ...                  ...   \n",
       "26569                            Plush  Stone Temple Pilots   \n",
       "26570             Fame - 2007 Remaster          David Bowie   \n",
       "26571  In Between Days - 2006 Remaster             The Cure   \n",
       "26572                           Flower                 Moby   \n",
       "26573         Fury of the Storm - Live          DragonForce   \n",
       "\n",
       "                                        url  cluster  \n",
       "0      spotify:track:7zgqtptZvhf8GEmdsM2vp2        0  \n",
       "1      spotify:track:4Vxu50qVrQcycjRyJQaZLC        9  \n",
       "2      spotify:track:6b8Be6ljOzmkOmFslEb23P        9  \n",
       "3      spotify:track:0afhq8XCExXpqazXczTSve        9  \n",
       "4      spotify:track:1HNkqx9Ahdgi1Ixy2xkKkL        2  \n",
       "...                                     ...      ...  \n",
       "26569  spotify:track:3jJZVeExYzVYiV6Y9Fl3DX        3  \n",
       "26570  spotify:track:7qVOasZcHa4faF1TqvPEKF        0  \n",
       "26571  spotify:track:07CyrZF9eVd02zzIse7tZA        6  \n",
       "26572  spotify:track:60rIdEPDrzyLiLC0icp3xz        0  \n",
       "26573  spotify:track:4JPE3Q7vuFa6UFoduMgZm2        1  \n",
       "\n",
       "[26574 rows x 4 columns]"
      ]
     },
     "execution_count": 11,
     "metadata": {},
     "output_type": "execute_result"
    }
   ],
   "source": [
    "song_artist_cluster"
   ]
  },
  {
   "cell_type": "code",
   "execution_count": 12,
   "id": "19c3a990",
   "metadata": {},
   "outputs": [],
   "source": [
    "# save as csv file\n",
    "song_artist_cluster.to_csv('song_artist_cluster.csv', sep=',', index=False)"
   ]
  }
 ],
 "metadata": {
  "kernelspec": {
   "display_name": "Python 3 (ipykernel)",
   "language": "python",
   "name": "python3"
  },
  "language_info": {
   "codemirror_mode": {
    "name": "ipython",
    "version": 3
   },
   "file_extension": ".py",
   "mimetype": "text/x-python",
   "name": "python",
   "nbconvert_exporter": "python",
   "pygments_lexer": "ipython3",
   "version": "3.11.5"
  }
 },
 "nbformat": 4,
 "nbformat_minor": 5
}
