{
 "cells": [
  {
   "cell_type": "markdown",
   "id": "a78b630f",
   "metadata": {},
   "source": [
    "# Gnod project: making a song recommender (5)"
   ]
  },
  {
   "cell_type": "markdown",
   "id": "b1628928",
   "metadata": {},
   "source": [
    "In this notebook I do the following:\n",
    " - Unpickle `kmeans_10_X_scaled` model, `scaler`, `X_scaled` and read `song_artist_cluster.csv`\n",
    " - Access Spotipy\n",
    " - Build the 2nd version of the song recommender"
   ]
  },
  {
   "cell_type": "code",
   "execution_count": 1,
   "id": "9ee098c4",
   "metadata": {},
   "outputs": [],
   "source": [
    "# import libraries\n",
    "import pickle\n",
    "import pandas as pd\n",
    "import numpy as np\n",
    "from pandas import json_normalize\n",
    "from random import randint"
   ]
  },
  {
   "cell_type": "code",
   "execution_count": 2,
   "id": "89594438",
   "metadata": {},
   "outputs": [],
   "source": [
    "# unpickle the kmeans model, the scaler and X_scaled\n",
    "kmeans = pickle.load(open('kmeans_10_X_scaled.p','rb'))\n",
    "scaler = pd.read_pickle('scaler.p')\n",
    "X_scaled = pd.read_pickle('X_scaled.p')\n",
    "\n",
    "# read 'song_artist_cluster.csv', 'hot100.csv' and 'hot100lower.csv'\n",
    "song_artist_cluster = pd.read_csv('song_artist_cluster.csv')\n",
    "hot100 = pd.read_csv('hot100.csv')\n",
    "hot100lower = pd.read_csv('hot100lower.csv')"
   ]
  },
  {
   "cell_type": "code",
   "execution_count": 3,
   "id": "7ba2ef67",
   "metadata": {},
   "outputs": [],
   "source": [
    "import spotipy\n",
    "from spotipy.oauth2 import SpotifyClientCredentials"
   ]
  },
  {
   "cell_type": "code",
   "execution_count": 4,
   "id": "e54f810a",
   "metadata": {},
   "outputs": [],
   "source": [
    "secrets_file = open(\"secrets.txt\",\"r\")"
   ]
  },
  {
   "cell_type": "code",
   "execution_count": 5,
   "id": "21ce112a",
   "metadata": {},
   "outputs": [],
   "source": [
    "string = secrets_file.read()"
   ]
  },
  {
   "cell_type": "code",
   "execution_count": 6,
   "id": "0bc449be",
   "metadata": {},
   "outputs": [],
   "source": [
    "# string"
   ]
  },
  {
   "cell_type": "code",
   "execution_count": 7,
   "id": "d8ce81d8",
   "metadata": {},
   "outputs": [],
   "source": [
    "# string.split('\\n')"
   ]
  },
  {
   "cell_type": "code",
   "execution_count": 8,
   "id": "23116abd",
   "metadata": {},
   "outputs": [],
   "source": [
    "secrets_dict={}\n",
    "for line in string.split('\\n'):\n",
    "    if len(line) > 0:\n",
    "#         print(line.split(':'))\n",
    "        secrets_dict[line.split(':')[0]]=line.split(':')[1].strip()"
   ]
  },
  {
   "cell_type": "code",
   "execution_count": 9,
   "id": "6351592c",
   "metadata": {},
   "outputs": [],
   "source": [
    "# secrets_dict"
   ]
  },
  {
   "cell_type": "code",
   "execution_count": 10,
   "id": "4ba9e974",
   "metadata": {},
   "outputs": [],
   "source": [
    "# initialize SpotiPy with user credentials\n",
    "sp = spotipy.Spotify(auth_manager=SpotifyClientCredentials(client_id=secrets_dict['clientid'],\n",
    "                                                           client_secret=secrets_dict['clientsecret']))"
   ]
  },
  {
   "cell_type": "code",
   "execution_count": 11,
   "id": "fe5f272e",
   "metadata": {},
   "outputs": [
    {
     "name": "stdout",
     "output_type": "stream",
     "text": [
      "Enter a song's name: before you go\n"
     ]
    },
    {
     "name": "stderr",
     "output_type": "stream",
     "text": [
      "C:\\Users\\pablo\\anaconda3\\Lib\\site-packages\\sklearn\\cluster\\_kmeans.py:1412: FutureWarning: The default value of `n_init` will change from 10 to 'auto' in 1.4. Set the value of `n_init` explicitly to suppress the warning\n",
      "  super()._check_params_vs_input(X, default_n_init=10)\n",
      "C:\\Users\\pablo\\anaconda3\\Lib\\site-packages\\joblib\\externals\\loky\\backend\\context.py:110: UserWarning: Could not find the number of physical cores for the following reason:\n",
      "found 0 physical cores < 1\n",
      "Returning the number of logical cores instead. You can silence this warning by setting LOKY_MAX_CPU_COUNT to the number of cores you want to use.\n",
      "  warnings.warn(\n",
      "  File \"C:\\Users\\pablo\\anaconda3\\Lib\\site-packages\\joblib\\externals\\loky\\backend\\context.py\", line 217, in _count_physical_cores\n",
      "    raise ValueError(\n"
     ]
    },
    {
     "name": "stdout",
     "output_type": "stream",
     "text": [
      "Your recomendation is:  Praise You - Radio Edit by Fatboy Slim\n"
     ]
    }
   ],
   "source": [
    "user_input = input(\"Enter a song's name: \")\n",
    "user_input_lower_stripped = user_input.lower().strip()\n",
    "\n",
    "if user_input_lower_stripped in list(hot100lower['titlelower']):\n",
    "    print(hot100['title'][randint(0,99)])\n",
    "else:\n",
    "    # get the song 'id'\n",
    "    song_id = sp.search(q=user_input_lower_stripped, limit=1)['tracks']['items'][0]['id']\n",
    "\n",
    "    # get the audio features\n",
    "    audio_ft = sp.audio_features(song_id)\n",
    "\n",
    "    # normalize\n",
    "    audio_ft_df = json_normalize(audio_ft)\n",
    "\n",
    "    # add popularity\n",
    "    audio_ft_df['popularity'] = sp.search(q=user_input_lower_stripped, limit=1)['tracks']['items'][0]['popularity']\n",
    "\n",
    "    # drop columns that are not numerical while putting the features in the same order as in the fit \n",
    "    audio_ft_df = audio_ft_df[['popularity','danceability','energy','key','loudness','mode','speechiness','acousticness','instrumentalness','liveness','valence','tempo','duration_ms','time_signature']]\n",
    "\n",
    "    # scale features\n",
    "    audio_ft_df_scaled = scaler.transform(audio_ft_df)\n",
    "\n",
    "    # fit kmeans model\n",
    "    kmeans.fit(X_scaled)\n",
    "\n",
    "    # make cluster prediction\n",
    "    song_cluster = kmeans.predict(audio_ft_df_scaled)\n",
    "\n",
    "    # filter the song_artist_cluster dataframe by the cluster of the user's song and reset index\n",
    "    filtered_cluster_songs = song_artist_cluster[song_artist_cluster['cluster']==song_cluster[0]].reset_index(drop=True)\n",
    "\n",
    "    # print the recommendation\n",
    "    random_song = randint(0,len(filtered_cluster_songs))\n",
    "    print('Your recomendation is: ', filtered_cluster_songs['song_name'][random_song],'by', filtered_cluster_songs['artist'][random_song])"
   ]
  }
 ],
 "metadata": {
  "kernelspec": {
   "display_name": "Python 3 (ipykernel)",
   "language": "python",
   "name": "python3"
  },
  "language_info": {
   "codemirror_mode": {
    "name": "ipython",
    "version": 3
   },
   "file_extension": ".py",
   "mimetype": "text/x-python",
   "name": "python",
   "nbconvert_exporter": "python",
   "pygments_lexer": "ipython3",
   "version": "3.11.5"
  }
 },
 "nbformat": 4,
 "nbformat_minor": 5
}
